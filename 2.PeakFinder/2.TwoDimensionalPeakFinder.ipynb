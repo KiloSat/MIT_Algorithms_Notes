{
 "cells": [
  {
   "cell_type": "code",
   "execution_count": 1,
   "metadata": {},
   "outputs": [],
   "source": [
    "# Now we move on to two dimensional array peak\n",
    "# For example take a look below\n",
    "#  5    2     3    7   \n",
    "#  19   10   11   18\n",
    "#  9    8     9   21"
   ]
  },
  {
   "cell_type": "code",
   "execution_count": 2,
   "metadata": {},
   "outputs": [],
   "source": [
    "# First Algo \n",
    "# We compare the elements which are immediately to the right,left,up,down\n",
    "# if any element is bigger than our originally selected one then we move on to it\n",
    "# else we select our original element as the peak. "
   ]
  },
  {
   "cell_type": "code",
   "execution_count": 3,
   "metadata": {},
   "outputs": [],
   "source": [
    "# In the example,lets say we start from 5, we compare 2 and 19 to 5\n",
    "# we find 2 is small so we compare 5 with 19 \n",
    "# since 19>5 we move on to 19 \n",
    "# we then compare 19 to 10 and 9. We determine that 19 is a peak."
   ]
  },
  {
   "cell_type": "code",
   "execution_count": 4,
   "metadata": {},
   "outputs": [
    {
     "data": {
      "text/plain": [
       "6"
      ]
     },
     "execution_count": 4,
     "metadata": {},
     "output_type": "execute_result"
    }
   ],
   "source": [
    "myArr = [[2,46,52,12,43,19],\n",
    "         [4,37,89,12,74,11],\n",
    "         [14,137,189,112,174,111],\n",
    "         [24,237,289,212,274,211]\n",
    "        ]\n",
    "len(myArr[0])"
   ]
  },
  {
   "cell_type": "code",
   "execution_count": 5,
   "metadata": {},
   "outputs": [],
   "source": [
    "# Note Pls : There are cases where the inputs are not multidimensional arrays, i.e int,char etc\n",
    "# It is not my intent to make sure that this code is used in a real world application somewhere\n",
    "# However you may practice these cases by modifying the code anytime you want\n",
    "def findPeak2D(arr):\n",
    "    # first we check whether the input provided is indeed a rectangular array\n",
    "    width = len(arr[0])\n",
    "    if width==0:\n",
    "        return 'Bitch Pls'\n",
    "    for i in range(1,len(arr)):\n",
    "        if len(arr[i])!= width:\n",
    "            return (f'Mistake in input array at sublist {i}')\n",
    "        \n",
    "findPeak2D(myArr)    "
   ]
  },
  {
   "cell_type": "code",
   "execution_count": null,
   "metadata": {},
   "outputs": [],
   "source": []
  }
 ],
 "metadata": {
  "kernelspec": {
   "display_name": "Python 3",
   "language": "python",
   "name": "python3"
  },
  "language_info": {
   "codemirror_mode": {
    "name": "ipython",
    "version": 3
   },
   "file_extension": ".py",
   "mimetype": "text/x-python",
   "name": "python",
   "nbconvert_exporter": "python",
   "pygments_lexer": "ipython3",
   "version": "3.7.6"
  }
 },
 "nbformat": 4,
 "nbformat_minor": 4
}
