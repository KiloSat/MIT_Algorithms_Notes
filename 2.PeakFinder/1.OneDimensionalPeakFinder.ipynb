{
 "cells": [
  {
   "cell_type": "code",
   "execution_count": 1,
   "metadata": {},
   "outputs": [],
   "source": [
    "#So our first problem is to find a peak in a one dimesional array\n",
    "\n",
    "#To understand what is peak finding we take an example of an array having some elements\n",
    "#let the array be myArr = [1,3,5,6,12,9]\n",
    "#Now, we see that element 6<=12>=9 in the array, sort of like a peak in the middle.\n",
    "\n",
    "#Hence the element 12 is the peak in this case.\n",
    "\n",
    "#Now you may say that hey,what about the other cases where there might not be a peak.\n",
    "#It really depends on how you define a peak.\n",
    "#If we impose two conditions\n",
    "#(1)Last element of the array is a peak if the element occurring before it is smaller or equal.\n",
    "#(2)First element of the array is a peak if the second element is smaller or equal.  \n",
    "\n",
    "#These two conditions make sure that there is always a peak in the array  "
   ]
  },
  {
   "cell_type": "code",
   "execution_count": 2,
   "metadata": {},
   "outputs": [
    {
     "name": "stdout",
     "output_type": "stream",
     "text": [
      "12\n"
     ]
    }
   ],
   "source": [
    "myArr = [1,3,4,5,6,12,9]\n",
    "print(max(myArr))"
   ]
  },
  {
   "cell_type": "code",
   "execution_count": 3,
   "metadata": {},
   "outputs": [
    {
     "name": "stdout",
     "output_type": "stream",
     "text": [
      "9\n"
     ]
    }
   ],
   "source": [
    "myArr = [1,3,4,5,6,9,9]\n",
    "print(max(myArr))"
   ]
  },
  {
   "cell_type": "code",
   "execution_count": 4,
   "metadata": {},
   "outputs": [
    {
     "name": "stdout",
     "output_type": "stream",
     "text": [
      "11\n"
     ]
    }
   ],
   "source": [
    "myArr = [11,11,11,3,4,5,6,9,9]\n",
    "print(max(myArr))"
   ]
  },
  {
   "cell_type": "code",
   "execution_count": 5,
   "metadata": {},
   "outputs": [],
   "source": [
    "#Now we use the simple algortithm in which we traverse through the array one element at a time"
   ]
  },
  {
   "cell_type": "code",
   "execution_count": 6,
   "metadata": {},
   "outputs": [
    {
     "data": {
      "text/plain": [
       "9"
      ]
     },
     "execution_count": 6,
     "metadata": {},
     "output_type": "execute_result"
    }
   ],
   "source": [
    "myArr = [1,2,4,5,8,9]\n",
    "def peakFinder1(arr):\n",
    "    \n",
    "    # if the length of the array is 0 or 1\n",
    "    if len(arr)==0:\n",
    "        return ('Bitch Pls')\n",
    "    elif len(arr)==1:\n",
    "        return (arr[0])\n",
    "    # If the first element is peak\n",
    "    peak = arr[0] \n",
    "    if arr[1]<=arr[0]:\n",
    "        return (arr[0])\n",
    "    \n",
    "    # If the last element is a peak\n",
    "    elif arr[len(arr)-1]>arr[len(arr)-2]:\n",
    "        return (arr[len(arr)-1])\n",
    "    \n",
    "    # Traversing till the second last element to find if a peak exists there\n",
    "    for i in range(1,len(arr)-1):\n",
    "        if arr[i-1]<=arr[i]>=arr[i+1]:\n",
    "            peak = arr[i]\n",
    "            return (peak)\n",
    "    \n",
    "        \n",
    "peakFinder1(myArr)"
   ]
  },
  {
   "cell_type": "code",
   "execution_count": 7,
   "metadata": {},
   "outputs": [],
   "source": [
    "# As we see here this Algorithm works, but it is very inefficient to calculate the peak as it takes maximum time \n",
    "# That is its worst case complexity is O(n) for an array with n elements."
   ]
  },
  {
   "cell_type": "code",
   "execution_count": 8,
   "metadata": {},
   "outputs": [],
   "source": [
    "# We now try to use another way of finding a peak.\n",
    "# We try Binary Search on the 1d array\n",
    "# We will select the middle element and compare the elements to its left and right.We select the side having bigger value than our middle element.\n",
    "# If both are smaller than our middle element,Congraulations we found a peak. "
   ]
  },
  {
   "cell_type": "code",
   "execution_count": 9,
   "metadata": {},
   "outputs": [
    {
     "data": {
      "text/plain": [
       "25"
      ]
     },
     "execution_count": 9,
     "metadata": {},
     "output_type": "execute_result"
    }
   ],
   "source": [
    "myArr = [1,2,3,4,5,6,7,25,12,11]\n",
    "def peakFinder2(arr):\n",
    "    mid = int(len(arr)/2)-1\n",
    "    \n",
    "    # if the length of the array is 0 or 1\n",
    "    if len(arr)==0:\n",
    "        return ('Bitch Pls')\n",
    "    elif len(arr)==1:\n",
    "        return (arr[0])\n",
    "    \n",
    "    #if the first or the last element are the peak\n",
    "    elif (arr[0]>arr[1] or arr[len(arr)-1]>arr[len(arr)-2]):\n",
    "        if(arr[0]>arr[1]):\n",
    "            return (arr[0])\n",
    "        else:\n",
    "            return (arr[len(arr)-1])\n",
    "    \n",
    "    #if the middle element is the peak \n",
    "    elif arr[mid-1]<arr[mid]>arr[mid+1] :\n",
    "        return(arr[mid])\n",
    "    \n",
    "    #if the right side is greater than our middle element while the left side is not\n",
    "    elif arr[mid-1]<arr[mid]<arr[mid+1]:\n",
    "        newArr = arr[mid:] \n",
    "        \n",
    "        #feeding the newly created array to the function\n",
    "        peak = peakFinder2(newArr)\n",
    "        return(peak)\n",
    "    \n",
    "    #if the left side is greater than our middle element while the right side is not\n",
    "    elif arr[mid-1]>arr[mid]>arr[mid+1]:    \n",
    "        newArr = arr[:mid]    \n",
    "        \n",
    "        #feeding the newly created array to the function\n",
    "        peakFinder2(newArr)\n",
    "        peak = peakFinder2(newArr)\n",
    "        return(peak)\n",
    "(peakFinder2(myArr))"
   ]
  },
  {
   "cell_type": "code",
   "execution_count": null,
   "metadata": {},
   "outputs": [],
   "source": []
  }
 ],
 "metadata": {
  "kernelspec": {
   "display_name": "Python 3",
   "language": "python",
   "name": "python3"
  },
  "language_info": {
   "codemirror_mode": {
    "name": "ipython",
    "version": 3
   },
   "file_extension": ".py",
   "mimetype": "text/x-python",
   "name": "python",
   "nbconvert_exporter": "python",
   "pygments_lexer": "ipython3",
   "version": "3.7.6"
  }
 },
 "nbformat": 4,
 "nbformat_minor": 4
}
