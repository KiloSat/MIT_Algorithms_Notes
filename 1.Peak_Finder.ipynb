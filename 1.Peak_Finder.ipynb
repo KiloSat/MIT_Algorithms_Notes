{
 "cells": [
  {
   "cell_type": "code",
   "execution_count": 1,
   "metadata": {},
   "outputs": [],
   "source": [
    "#So our first problem is to find a peak in a one dimesional array\n",
    "\n",
    "#To understand what is peak finding we take an example of an array having some elements\n",
    "#let the array be myArr = [1,3,5,6,12,9]\n",
    "#Now, we see that element 6<=12>=9 in the array, sort of like a peak in the middle.\n",
    "\n",
    "#Hence the element 12 is the peak in this case.\n",
    "\n",
    "#Now you may say that hey,what about the other cases where there might not be a peak.\n",
    "#It really depends on how you define a peak.\n",
    "#If we impose two conditions\n",
    "#(1)Last element of the array is a peak if the element occurring before it is smaller or equal.\n",
    "#(2)First element of the array is a peak if the second element is smaller or equal.  \n",
    "\n",
    "#These two conditions make sure that there is always a peak in the array  "
   ]
  },
  {
   "cell_type": "code",
   "execution_count": null,
   "metadata": {},
   "outputs": [],
   "source": []
  },
  {
   "cell_type": "code",
   "execution_count": 2,
   "metadata": {},
   "outputs": [
    {
     "name": "stdout",
     "output_type": "stream",
     "text": [
      "12\n"
     ]
    }
   ],
   "source": [
    "myArr = [1,3,4,5,6,12,9]\n",
    "print(max(myArr))"
   ]
  },
  {
   "cell_type": "code",
   "execution_count": 4,
   "metadata": {},
   "outputs": [
    {
     "name": "stdout",
     "output_type": "stream",
     "text": [
      "9\n"
     ]
    }
   ],
   "source": [
    "myArr = [1,3,4,5,6,9,9]\n",
    "print(max(myArr))"
   ]
  },
  {
   "cell_type": "code",
   "execution_count": 5,
   "metadata": {},
   "outputs": [
    {
     "name": "stdout",
     "output_type": "stream",
     "text": [
      "11\n"
     ]
    }
   ],
   "source": [
    "myArr = [11,11,11,3,4,5,6,9,9]\n",
    "print(max(myArr))"
   ]
  },
  {
   "cell_type": "code",
   "execution_count": 6,
   "metadata": {},
   "outputs": [],
   "source": [
    "#Now we use the simple algortithm in which we traverse through the array one element at a time"
   ]
  },
  {
   "cell_type": "code",
   "execution_count": 33,
   "metadata": {},
   "outputs": [
    {
     "name": "stdout",
     "output_type": "stream",
     "text": [
      "(8, 3)\n"
     ]
    }
   ],
   "source": [
    "myArr = [4,6,7,8]\n",
    "def peakFinder(arr):\n",
    "    # If the first element is peak\n",
    "    peak = arr[0]\n",
    "    if arr[1]<=peak:\n",
    "        return (peak,0)\n",
    "    \n",
    "    # Traversing till the second last element to find if a peak exists there\n",
    "    for i in range(1,len(arr)-1):\n",
    "        if arr[i-1]<=arr[i]>=arr[i+1]:\n",
    "            peak = arr[i]\n",
    "            return (peak,i)\n",
    "    \n",
    "    # If the last element is a peak\n",
    "    if peak == arr[0]:\n",
    "        if arr[len(arr)-1]>=arr[len(arr)-2]:\n",
    "            peak = arr[len(arr)-1]\n",
    "            return (peak,len(arr)-1)\n",
    "        \n",
    "print(peakFinder(myArr))    "
   ]
  },
  {
   "cell_type": "code",
   "execution_count": 12,
   "metadata": {},
   "outputs": [],
   "source": [
    "# As we see here this Algorithm works, but it is very inefficient to calculate the peak as it takes maximum time \n",
    "# That is its worst case complexity is O(n) for an array with n elements."
   ]
  },
  {
   "cell_type": "code",
   "execution_count": 21,
   "metadata": {},
   "outputs": [
    {
     "name": "stdout",
     "output_type": "stream",
     "text": [
      "None\n"
     ]
    }
   ],
   "source": [
    "val = None\n",
    "print(val)"
   ]
  },
  {
   "cell_type": "code",
   "execution_count": 22,
   "metadata": {},
   "outputs": [
    {
     "data": {
      "text/plain": [
       "False"
      ]
     },
     "execution_count": 22,
     "metadata": {},
     "output_type": "execute_result"
    }
   ],
   "source": [
    "peak==None"
   ]
  },
  {
   "cell_type": "code",
   "execution_count": null,
   "metadata": {},
   "outputs": [],
   "source": []
  }
 ],
 "metadata": {
  "kernelspec": {
   "display_name": "Python 3",
   "language": "python",
   "name": "python3"
  },
  "language_info": {
   "codemirror_mode": {
    "name": "ipython",
    "version": 3
   },
   "file_extension": ".py",
   "mimetype": "text/x-python",
   "name": "python",
   "nbconvert_exporter": "python",
   "pygments_lexer": "ipython3",
   "version": "3.7.6"
  }
 },
 "nbformat": 4,
 "nbformat_minor": 4
}
